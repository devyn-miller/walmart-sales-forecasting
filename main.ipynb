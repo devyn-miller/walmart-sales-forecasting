{
 "cells": [
  {
   "cell_type": "markdown",
   "metadata": {},
   "source": [
    "# Walmart Sales Forecasting Pipeline\n",
    "\n",
    "This notebook runs the complete sales forecasting pipeline, including:\n",
    "1. Data preprocessing\n",
    "2. LSTM model training\n",
    "3. XGBoost model training\n",
    "4. Ensemble predictions\n",
    "5. Power BI data export\n",
    "\n",
    "Make sure you have all required datasets in the `data/` directory before running this notebook."
   ]
  },
  {
   "cell_type": "code",
   "execution_count": null,
   "metadata": {},
   "source": [
    "import os\n",
    "import sys\n",
    "import pandas as pd\n",
    "import numpy as np\n",
    "from IPython.display import display, HTML\n",
    "\n",
    "# Add scripts directory to path\n",
    "sys.path.append('scripts')\n",
    "\n",
    "# Import our modules\n",
    "import data_preprocessing\n",
    "import train_lstm\n",
    "import train_xgboost\n",
    "import ensemble_results\n",
    "import export_powerbi"
   ]
  },
  {
   "cell_type": "markdown",
   "metadata": {},
   "source": [
    "## 1. Check Required Files"
   ]
  },
  {
   "cell_type": "code",
   "execution_count": null,
   "metadata": {},
   "source": [
    "required_files = ['train.csv', 'test.csv', 'features.csv', 'stores.csv']\n",
    "missing_files = []\n",
    "\n",
    "for file in required_files:\n",
    "    if not os.path.exists(f'data/{file}'):\n",
    "        missing_files.append(file)\n",
    "\n",
    "if missing_files:\n",
    "    print(\"❌ Missing required files:\")\n",
    "    for file in missing_files:\n",
    "        print(f\"  - {file}\")\n",
    "    print(\"\\nPlease add these files to the 'data/' directory before proceeding.\")\n",
    "else:\n",
    "    print(\"✅ All required files present!\")"
   ]
  },
  {
   "cell_type": "markdown",
   "metadata": {},
   "source": [
    "## 2. Data Preprocessing"
   ]
  },
  {
   "cell_type": "code",
   "execution_count": null,
   "metadata": {},
   "source": [
    "print(\"Starting data preprocessing...\")\n",
    "data_preprocessing.main()\n",
    "print(\"\\nPreprocessing completed!\")\n",
    "\n",
    "# Display sample of processed data\n",
    "clean_train = pd.read_csv('data/clean_train_data.csv')\n",
    "display(HTML(clean_train.head().to_html()))"
   ]
  },
  {
   "cell_type": "markdown",
   "metadata": {},
   "source": [
    "## 3. Train LSTM Model"
   ]
  },
  {
   "cell_type": "code",
   "execution_count": null,
   "metadata": {},
   "source": [
    "print(\"Training LSTM model...\")\n",
    "train_lstm.main()\n",
    "\n",
    "# Display LSTM metrics\n",
    "lstm_metrics = pd.read_csv('data/lstm_metrics.csv')\n",
    "display(HTML(lstm_metrics.to_html()))"
   ]
  },
  {
   "cell_type": "markdown",
   "metadata": {},
   "source": [
    "## 4. Train XGBoost Model"
   ]
  },
  {
   "cell_type": "code",
   "execution_count": null,
   "metadata": {},
   "source": [
    "print(\"Training XGBoost model...\")\n",
    "train_xgboost.main()\n",
    "\n",
    "# Display XGBoost metrics and feature importance\n",
    "xgb_metrics = pd.read_csv('data/xgboost_metrics.csv')\n",
    "feature_importance = pd.read_csv('data/feature_importance.csv')\n",
    "\n",
    "print(\"\\nXGBoost Metrics:\")\n",
    "display(HTML(xgb_metrics.to_html()))\n",
    "\n",
    "print(\"\\nTop 10 Important Features:\")\n",
    "display(HTML(feature_importance.head(10).to_html()))"
   ]
  },
  {
   "cell_type": "markdown",
   "metadata": {},
   "source": [
    "## 5. Create Ensemble Predictions"
   ]
  },
  {
   "cell_type": "code",
   "execution_count": null,
   "metadata": {},
   "source": [
    "print(\"Creating ensemble predictions...\")\n",
    "ensemble_results.main()\n",
    "\n",
    "# Display ensemble metrics\n",
    "ensemble_metrics = pd.read_csv('data/ensemble_metrics.csv')\n",
    "display(HTML(ensemble_metrics.to_html()))"
   ]
  },
  {
   "cell_type": "markdown",
   "metadata": {},
   "source": [
    "## 6. Export Data for Power BI"
   ]
  },
  {
   "cell_type": "code",
   "execution_count": null,
   "metadata": {},
   "source": [
    "print(\"Exporting data for Power BI...\")\n",
    "export_powerbi.main()\n",
    "\n",
    "# List exported files\n",
    "powerbi_files = os.listdir('powerbi')\n",
    "print(\"\\nExported files for Power BI:\")\n",
    "for file in powerbi_files:\n",
    "    print(f\"  - {file}\")"
   ]
  },
  {
   "cell_type": "markdown",
   "metadata": {},
   "source": [
    "## Pipeline Complete!\n",
    "\n",
    "The sales forecasting pipeline has finished running. You can now:\n",
    "1. Check the model metrics in the data/ directory\n",
    "2. Review the predictions in final_forecast.csv\n",
    "3. Use the exported files in the powerbi/ directory to create your dashboard\n",
    "\n",
    "For any issues or questions, please refer to the README.md file."
   ]
  }
 ],
 "metadata": {
  "kernelspec": {
   "display_name": "Python 3",
   "language": "python",
   "name": "python3"
  },
  "language_info": {
   "codemirror_mode": {
    "name": "ipython",
    "version": 3
   },
   "file_extension": ".py",
   "mimetype": "text/x-python",
   "name": "python",
   "nbconvert_exporter": "python",
   "pygments_lexer": "ipython3",
   "version": "3.8.0"
  }
 },
 "nbformat": 4,
 "nbformat_minor": 4
}
